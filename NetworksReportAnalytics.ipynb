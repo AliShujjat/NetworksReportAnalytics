{
  "nbformat": 4,
  "nbformat_minor": 0,
  "metadata": {
    "colab": {
      "name": "NetworksReportAnalytics.ipynb",
      "provenance": [],
      "collapsed_sections": []
    },
    "kernelspec": {
      "name": "python3",
      "display_name": "Python 3"
    }
  },
  "cells": [
    {
      "cell_type": "markdown",
      "metadata": {
        "id": "37vpEOshY0pU",
        "colab_type": "text"
      },
      "source": [
        "# The  Dynamics of Friendships at Habib University\n"
      ]
    },
    {
      "cell_type": "code",
      "metadata": {
        "id": "eGCaPkMzJv7w",
        "colab_type": "code",
        "colab": {
          "resources": {
            "http://localhost:8080/nbextensions/google.colab/files.js": {
              "data": "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",
              "ok": true,
              "headers": [
                [
                  "content-type",
                  "application/javascript"
                ]
              ],
              "status": 200,
              "status_text": ""
            }
          },
          "base_uri": "https://localhost:8080/",
          "height": 73
        },
        "outputId": "e5743d1e-21c5-46fc-a187-ffbe1c0d9989"
      },
      "source": [
        "from google.colab import files\n",
        "upload = files.upload()"
      ],
      "execution_count": null,
      "outputs": [
        {
          "output_type": "display_data",
          "data": {
            "text/html": [
              "\n",
              "     <input type=\"file\" id=\"files-0b5bed3d-7584-4132-910c-cb8da1384c48\" name=\"files[]\" multiple disabled\n",
              "        style=\"border:none\" />\n",
              "     <output id=\"result-0b5bed3d-7584-4132-910c-cb8da1384c48\">\n",
              "      Upload widget is only available when the cell has been executed in the\n",
              "      current browser session. Please rerun this cell to enable.\n",
              "      </output>\n",
              "      <script src=\"/nbextensions/google.colab/files.js\"></script> "
            ],
            "text/plain": [
              "<IPython.core.display.HTML object>"
            ]
          },
          "metadata": {
            "tags": []
          }
        },
        {
          "output_type": "stream",
          "text": [
            "Saving The Dynamics of Friendships at Habib University.csv to The Dynamics of Friendships at Habib University (1).csv\n"
          ],
          "name": "stdout"
        }
      ]
    },
    {
      "cell_type": "code",
      "metadata": {
        "id": "kfFNHMpVJ9Ya",
        "colab_type": "code",
        "colab": {}
      },
      "source": [
        "import pandas as pd\n",
        "import matplotlib.pyplot as plt\n",
        "import seaborn as sns\n",
        "import numpy as np\n",
        "import matplotlib.ticker as mtick"
      ],
      "execution_count": null,
      "outputs": []
    },
    {
      "cell_type": "markdown",
      "metadata": {
        "id": "PEEbNt2bZg0L",
        "colab_type": "text"
      },
      "source": [
        "# Data Wrangling"
      ]
    },
    {
      "cell_type": "code",
      "metadata": {
        "id": "RM38H2KQKKtD",
        "colab_type": "code",
        "colab": {}
      },
      "source": [
        "df = pd.read_csv('The Dynamics of Friendships at Habib University.csv', encoding='latin1')"
      ],
      "execution_count": null,
      "outputs": []
    },
    {
      "cell_type": "code",
      "metadata": {
        "id": "Y6c7wP-oKPdz",
        "colab_type": "code",
        "colab": {
          "base_uri": "https://localhost:8080/",
          "height": 548
        },
        "outputId": "24a4782b-5bc5-4845-d53b-ddc1c7bc2d1d"
      },
      "source": [
        "df.head()"
      ],
      "execution_count": null,
      "outputs": [
        {
          "output_type": "execute_result",
          "data": {
            "text/html": [
              "<div>\n",
              "<style scoped>\n",
              "    .dataframe tbody tr th:only-of-type {\n",
              "        vertical-align: middle;\n",
              "    }\n",
              "\n",
              "    .dataframe tbody tr th {\n",
              "        vertical-align: top;\n",
              "    }\n",
              "\n",
              "    .dataframe thead th {\n",
              "        text-align: right;\n",
              "    }\n",
              "</style>\n",
              "<table border=\"1\" class=\"dataframe\">\n",
              "  <thead>\n",
              "    <tr style=\"text-align: right;\">\n",
              "      <th></th>\n",
              "      <th>Timestamp</th>\n",
              "      <th>What is your batch?</th>\n",
              "      <th>What is your major?</th>\n",
              "      <th>To which gender identity do you most identify with?</th>\n",
              "      <th>About what percentage of your friends would you say are from your own batch?</th>\n",
              "      <th>About what percentage of your friends would you say are from your own major?</th>\n",
              "      <th>About what percentage of your friends would you say identify as the same gender as you do?</th>\n",
              "      <th>About what percentage of the people that you interact with in class do you also interact with outside of classes? (The dynamics of our courses often force students to interact with each other, e.g. in group presentations and projects etc., however, you might not necessarily interact outside of class)</th>\n",
              "      <th>What would you say you look for when making friends at Habib? (Please check all that apply)</th>\n",
              "    </tr>\n",
              "  </thead>\n",
              "  <tbody>\n",
              "    <tr>\n",
              "      <th>0</th>\n",
              "      <td>2020/06/16 7:54:24 PM GMT+5</td>\n",
              "      <td>Class of 2022</td>\n",
              "      <td>CS</td>\n",
              "      <td>Female</td>\n",
              "      <td>80%</td>\n",
              "      <td>80%</td>\n",
              "      <td>60%</td>\n",
              "      <td>70%</td>\n",
              "      <td>Shared Interests;Similar Social Status;Similar...</td>\n",
              "    </tr>\n",
              "    <tr>\n",
              "      <th>1</th>\n",
              "      <td>2020/06/16 7:54:52 PM GMT+5</td>\n",
              "      <td>Class of 2023</td>\n",
              "      <td>CS</td>\n",
              "      <td>Female</td>\n",
              "      <td>90%</td>\n",
              "      <td>60%</td>\n",
              "      <td>70%</td>\n",
              "      <td>40%</td>\n",
              "      <td>Shared Interests;Similar Personality to yourself</td>\n",
              "    </tr>\n",
              "    <tr>\n",
              "      <th>2</th>\n",
              "      <td>2020/06/16 7:58:58 PM GMT+5</td>\n",
              "      <td>Class of 2023</td>\n",
              "      <td>CND</td>\n",
              "      <td>Female</td>\n",
              "      <td>80%</td>\n",
              "      <td>30%</td>\n",
              "      <td>90%</td>\n",
              "      <td>70%</td>\n",
              "      <td>Similar Personality to yourself;Similar Morals</td>\n",
              "    </tr>\n",
              "    <tr>\n",
              "      <th>3</th>\n",
              "      <td>2020/06/16 7:59:18 PM GMT+5</td>\n",
              "      <td>Class of 2021</td>\n",
              "      <td>CS</td>\n",
              "      <td>Male</td>\n",
              "      <td>80%</td>\n",
              "      <td>70%</td>\n",
              "      <td>90%</td>\n",
              "      <td>60%</td>\n",
              "      <td>Shared Interests;Similar Personality to yourself</td>\n",
              "    </tr>\n",
              "    <tr>\n",
              "      <th>4</th>\n",
              "      <td>2020/06/16 8:01:14 PM GMT+5</td>\n",
              "      <td>Class of 2023</td>\n",
              "      <td>CS</td>\n",
              "      <td>Male</td>\n",
              "      <td>90%</td>\n",
              "      <td>60%</td>\n",
              "      <td>50%</td>\n",
              "      <td>30%</td>\n",
              "      <td>Shared Interests;Similar Personality to yourself</td>\n",
              "    </tr>\n",
              "  </tbody>\n",
              "</table>\n",
              "</div>"
            ],
            "text/plain": [
              "                     Timestamp  ... What would you say you look for when making friends at Habib? (Please check all that apply)\n",
              "0  2020/06/16 7:54:24 PM GMT+5  ...  Shared Interests;Similar Social Status;Similar...                                         \n",
              "1  2020/06/16 7:54:52 PM GMT+5  ...   Shared Interests;Similar Personality to yourself                                         \n",
              "2  2020/06/16 7:58:58 PM GMT+5  ...     Similar Personality to yourself;Similar Morals                                         \n",
              "3  2020/06/16 7:59:18 PM GMT+5  ...   Shared Interests;Similar Personality to yourself                                         \n",
              "4  2020/06/16 8:01:14 PM GMT+5  ...   Shared Interests;Similar Personality to yourself                                         \n",
              "\n",
              "[5 rows x 9 columns]"
            ]
          },
          "metadata": {
            "tags": []
          },
          "execution_count": 37
        }
      ]
    },
    {
      "cell_type": "code",
      "metadata": {
        "id": "4a3in2QZKRBA",
        "colab_type": "code",
        "colab": {}
      },
      "source": [
        "df.rename(columns = {'To which gender identity do you most identify with?':'Gender', 'About what percentage of your friends would you say are from your own batch?':'Batch', \n",
        "                              'About what percentage of your friends would you say are from your own major?':'Major'}, inplace = True) "
      ],
      "execution_count": null,
      "outputs": []
    },
    {
      "cell_type": "code",
      "metadata": {
        "id": "x1yQgq4DKve1",
        "colab_type": "code",
        "colab": {}
      },
      "source": [
        "df.rename(columns = {'About what percentage of your friends would you say identify as the same gender as you do?':'friendsOfSameGender', 'About what percentage of the people that you interact with in class do you also interact with outside of classes? (The dynamics of our courses often force students to interact with each other, e.g. in group presentations and projects etc., however, you might not necessarily interact outside of class)':'friendsInAndOutOfClass', \n",
        "                              'What would you say you look for when making friends at Habib? (Please check all that apply)':'makingFriends'}, inplace = True) "
      ],
      "execution_count": null,
      "outputs": []
    },
    {
      "cell_type": "code",
      "metadata": {
        "id": "ytv8TWqZLnck",
        "colab_type": "code",
        "colab": {}
      },
      "source": [
        "df.rename(columns = {'What is your batch?':'Batch', 'What is your major?':'Major', \n",
        "                              'Batch':'friendsInBatch','Major':'friendsInMajor'}, inplace = True) "
      ],
      "execution_count": null,
      "outputs": []
    },
    {
      "cell_type": "code",
      "metadata": {
        "id": "cUNoP_2lMFMH",
        "colab_type": "code",
        "colab": {}
      },
      "source": [
        "df.drop(columns='Timestamp', inplace=True)"
      ],
      "execution_count": null,
      "outputs": []
    },
    {
      "cell_type": "code",
      "metadata": {
        "id": "VahFb_yzFhQt",
        "colab_type": "code",
        "colab": {}
      },
      "source": [
        "indexNames = df[ df['Gender'] == 'Doge' ].index\n",
        "# Delete these row indexes from dataFrame\n",
        "df.drop(indexNames, inplace=True)"
      ],
      "execution_count": null,
      "outputs": []
    },
    {
      "cell_type": "code",
      "metadata": {
        "id": "IzjffY2jMID8",
        "colab_type": "code",
        "colab": {
          "base_uri": "https://localhost:8080/",
          "height": 195
        },
        "outputId": "4a815df5-0c13-4aac-e446-0b419181af9c"
      },
      "source": [
        "df.head()"
      ],
      "execution_count": null,
      "outputs": [
        {
          "output_type": "execute_result",
          "data": {
            "text/html": [
              "<div>\n",
              "<style scoped>\n",
              "    .dataframe tbody tr th:only-of-type {\n",
              "        vertical-align: middle;\n",
              "    }\n",
              "\n",
              "    .dataframe tbody tr th {\n",
              "        vertical-align: top;\n",
              "    }\n",
              "\n",
              "    .dataframe thead th {\n",
              "        text-align: right;\n",
              "    }\n",
              "</style>\n",
              "<table border=\"1\" class=\"dataframe\">\n",
              "  <thead>\n",
              "    <tr style=\"text-align: right;\">\n",
              "      <th></th>\n",
              "      <th>Batch</th>\n",
              "      <th>Major</th>\n",
              "      <th>Gender</th>\n",
              "      <th>friendsInBatch</th>\n",
              "      <th>friendsInMajor</th>\n",
              "      <th>friendsOfSameGender</th>\n",
              "      <th>friendsInAndOutOfClass</th>\n",
              "      <th>makingFriends</th>\n",
              "    </tr>\n",
              "  </thead>\n",
              "  <tbody>\n",
              "    <tr>\n",
              "      <th>0</th>\n",
              "      <td>Class of 2022</td>\n",
              "      <td>CS</td>\n",
              "      <td>Female</td>\n",
              "      <td>80%</td>\n",
              "      <td>80%</td>\n",
              "      <td>60%</td>\n",
              "      <td>70%</td>\n",
              "      <td>Shared Interests;Similar Social Status;Similar...</td>\n",
              "    </tr>\n",
              "    <tr>\n",
              "      <th>1</th>\n",
              "      <td>Class of 2023</td>\n",
              "      <td>CS</td>\n",
              "      <td>Female</td>\n",
              "      <td>90%</td>\n",
              "      <td>60%</td>\n",
              "      <td>70%</td>\n",
              "      <td>40%</td>\n",
              "      <td>Shared Interests;Similar Personality to yourself</td>\n",
              "    </tr>\n",
              "    <tr>\n",
              "      <th>2</th>\n",
              "      <td>Class of 2023</td>\n",
              "      <td>CND</td>\n",
              "      <td>Female</td>\n",
              "      <td>80%</td>\n",
              "      <td>30%</td>\n",
              "      <td>90%</td>\n",
              "      <td>70%</td>\n",
              "      <td>Similar Personality to yourself;Similar Morals</td>\n",
              "    </tr>\n",
              "    <tr>\n",
              "      <th>3</th>\n",
              "      <td>Class of 2021</td>\n",
              "      <td>CS</td>\n",
              "      <td>Male</td>\n",
              "      <td>80%</td>\n",
              "      <td>70%</td>\n",
              "      <td>90%</td>\n",
              "      <td>60%</td>\n",
              "      <td>Shared Interests;Similar Personality to yourself</td>\n",
              "    </tr>\n",
              "    <tr>\n",
              "      <th>4</th>\n",
              "      <td>Class of 2023</td>\n",
              "      <td>CS</td>\n",
              "      <td>Male</td>\n",
              "      <td>90%</td>\n",
              "      <td>60%</td>\n",
              "      <td>50%</td>\n",
              "      <td>30%</td>\n",
              "      <td>Shared Interests;Similar Personality to yourself</td>\n",
              "    </tr>\n",
              "  </tbody>\n",
              "</table>\n",
              "</div>"
            ],
            "text/plain": [
              "           Batch  ...                                      makingFriends\n",
              "0  Class of 2022  ...  Shared Interests;Similar Social Status;Similar...\n",
              "1  Class of 2023  ...   Shared Interests;Similar Personality to yourself\n",
              "2  Class of 2023  ...     Similar Personality to yourself;Similar Morals\n",
              "3  Class of 2021  ...   Shared Interests;Similar Personality to yourself\n",
              "4  Class of 2023  ...   Shared Interests;Similar Personality to yourself\n",
              "\n",
              "[5 rows x 8 columns]"
            ]
          },
          "metadata": {
            "tags": []
          },
          "execution_count": 43
        }
      ]
    },
    {
      "cell_type": "code",
      "metadata": {
        "id": "E-k1V567MRgb",
        "colab_type": "code",
        "colab": {}
      },
      "source": [
        "df['friendsInBatch'] = df['friendsInBatch'].map(lambda x: x.rstrip('%'))\n",
        "df['friendsInMajor'] = df['friendsInMajor'].map(lambda x: x.rstrip('%'))\n",
        "df['friendsOfSameGender'] = df['friendsOfSameGender'].map(lambda x: x.rstrip('%'))\n",
        "df['friendsInAndOutOfClass'] = df['friendsInAndOutOfClass'].map(lambda x: x.rstrip('%'))"
      ],
      "execution_count": null,
      "outputs": []
    },
    {
      "cell_type": "code",
      "metadata": {
        "id": "XWCehqBQPmXy",
        "colab_type": "code",
        "colab": {}
      },
      "source": [
        "convert_dict = {'friendsInBatch': int, \n",
        "                'friendsInMajor': int,\n",
        "                'friendsOfSameGender': int, \n",
        "                'friendsInAndOutOfClass': int,\n",
        "               } \n",
        "  \n",
        "df = df.astype(convert_dict) "
      ],
      "execution_count": null,
      "outputs": []
    },
    {
      "cell_type": "code",
      "metadata": {
        "id": "oiVfJvUhMli_",
        "colab_type": "code",
        "colab": {
          "base_uri": "https://localhost:8080/",
          "height": 168
        },
        "outputId": "682eacfb-e6eb-45be-a6ce-6b59bfef63e7"
      },
      "source": [
        "df.dtypes"
      ],
      "execution_count": null,
      "outputs": [
        {
          "output_type": "execute_result",
          "data": {
            "text/plain": [
              "Batch                     object\n",
              "Major                     object\n",
              "Gender                    object\n",
              "friendsInBatch             int64\n",
              "friendsInMajor             int64\n",
              "friendsOfSameGender        int64\n",
              "friendsInAndOutOfClass     int64\n",
              "makingFriends             object\n",
              "dtype: object"
            ]
          },
          "metadata": {
            "tags": []
          },
          "execution_count": 46
        }
      ]
    },
    {
      "cell_type": "markdown",
      "metadata": {
        "id": "w9Qwd3oxZXYx",
        "colab_type": "text"
      },
      "source": [
        "# Analysis\n",
        "\n"
      ]
    },
    {
      "cell_type": "markdown",
      "metadata": {
        "id": "cJ7AVuicRyjl",
        "colab_type": "text"
      },
      "source": [
        "Major Distribution of Responses\n"
      ]
    },
    {
      "cell_type": "code",
      "metadata": {
        "id": "0_ioHLMqrmJJ",
        "colab_type": "code",
        "colab": {
          "base_uri": "https://localhost:8080/",
          "height": 118
        },
        "outputId": "081326d0-8d82-42a4-cfd4-d4028c38f37f"
      },
      "source": [
        "df['Major'].value_counts()"
      ],
      "execution_count": null,
      "outputs": [
        {
          "output_type": "execute_result",
          "data": {
            "text/plain": [
              "CS     41\n",
              "SDP    38\n",
              "CND    20\n",
              "EE     10\n",
              "CLS     1\n",
              "Name: Major, dtype: int64"
            ]
          },
          "metadata": {
            "tags": []
          },
          "execution_count": 47
        }
      ]
    },
    {
      "cell_type": "code",
      "metadata": {
        "id": "WBfw3jl_Wq_V",
        "colab_type": "code",
        "colab": {}
      },
      "source": [
        "majorDistribution = (df['Major'].value_counts()/110)*100"
      ],
      "execution_count": null,
      "outputs": []
    },
    {
      "cell_type": "code",
      "metadata": {
        "id": "Dg8Hp0rn-xXj",
        "colab_type": "code",
        "colab": {
          "base_uri": "https://localhost:8080/",
          "height": 118
        },
        "outputId": "207a135d-144a-4a7b-c3db-bf298596e238"
      },
      "source": [
        "majorDistribution"
      ],
      "execution_count": null,
      "outputs": [
        {
          "output_type": "execute_result",
          "data": {
            "text/plain": [
              "CS     37.272727\n",
              "SDP    34.545455\n",
              "CND    18.181818\n",
              "EE      9.090909\n",
              "CLS     0.909091\n",
              "Name: Major, dtype: float64"
            ]
          },
          "metadata": {
            "tags": []
          },
          "execution_count": 49
        }
      ]
    },
    {
      "cell_type": "code",
      "metadata": {
        "id": "LBFWfcxtX_5-",
        "colab_type": "code",
        "colab": {
          "base_uri": "https://localhost:8080/",
          "height": 312
        },
        "outputId": "887bc06f-88b3-44de-b85b-eb30bbe65f44"
      },
      "source": [
        "ax = majorDistribution.plot(kind='bar', colormap='Paired')\n",
        "\n",
        "for spine in plt.gca().spines.values():\n",
        "    spine.set_visible(False)\n",
        "plt.yticks([])\n",
        "\n",
        "for p in ax.patches:\n",
        "    width, height = p.get_width(), p.get_height()\n",
        "    x, y = p.get_xy() \n",
        "    ax.annotate('{:.2f}'.format(height), (x + 0.05, y + height + 1))\n",
        "\n",
        "plt.title('Major Distribution of Responses')\n",
        "plt.xlabel('Major')\n",
        "plt.ylabel('Percentage of responses')\n",
        "plt.xticks(rotation=0)"
      ],
      "execution_count": null,
      "outputs": [
        {
          "output_type": "execute_result",
          "data": {
            "text/plain": [
              "(array([0, 1, 2, 3, 4]), <a list of 5 Text major ticklabel objects>)"
            ]
          },
          "metadata": {
            "tags": []
          },
          "execution_count": 50
        },
        {
          "output_type": "display_data",
          "data": {
            "image/png": "[encoded data removed]",
            "text/plain": [
              "<Figure size 432x288 with 1 Axes>"
            ]
          },
          "metadata": {
            "tags": [],
            "needs_background": "light"
          }
        }
      ]
    },
    {
      "cell_type": "markdown",
      "metadata": {
        "id": "3RL8zwz4R292",
        "colab_type": "text"
      },
      "source": [
        "Batch Distribution of Responses"
      ]
    },
    {
      "cell_type": "code",
      "metadata": {
        "id": "KDzoT6ZHZ8LP",
        "colab_type": "code",
        "colab": {}
      },
      "source": [
        "batchDistribution = (df['Batch'].value_counts()/110)*100"
      ],
      "execution_count": null,
      "outputs": []
    },
    {
      "cell_type": "code",
      "metadata": {
        "id": "tlxYzbOK_DTe",
        "colab_type": "code",
        "colab": {
          "base_uri": "https://localhost:8080/",
          "height": 101
        },
        "outputId": "67bec19c-e28a-4f42-be6e-6c7fbcde59be"
      },
      "source": [
        "batchDistribution"
      ],
      "execution_count": null,
      "outputs": [
        {
          "output_type": "execute_result",
          "data": {
            "text/plain": [
              "Class of 2021    53.636364\n",
              "Class of 2020    16.363636\n",
              "Class of 2022    16.363636\n",
              "Class of 2023    13.636364\n",
              "Name: Batch, dtype: float64"
            ]
          },
          "metadata": {
            "tags": []
          },
          "execution_count": 52
        }
      ]
    },
    {
      "cell_type": "code",
      "metadata": {
        "id": "ySNnd1mqZ-uE",
        "colab_type": "code",
        "colab": {
          "base_uri": "https://localhost:8080/",
          "height": 312
        },
        "outputId": "3e3b213f-5800-4529-9e0b-1eb3db634ca4"
      },
      "source": [
        "ax = batchDistribution.plot(kind='bar', colormap='Accent')\n",
        "\n",
        "for spine in plt.gca().spines.values():\n",
        "    spine.set_visible(False)\n",
        "plt.yticks([])\n",
        "\n",
        "for p in ax.patches:\n",
        "    width, height = p.get_width(), p.get_height()\n",
        "    x, y = p.get_xy() \n",
        "    ax.annotate('{:.2f}'.format(height), (x + 0.05, y + height + 1))\n",
        "\n",
        "plt.xticks(rotation=0)\n",
        "plt.title('Batch Distribution of responses')\n",
        "plt.xlabel('Batch')\n",
        "plt.ylabel('Percentage of responses')"
      ],
      "execution_count": null,
      "outputs": [
        {
          "output_type": "execute_result",
          "data": {
            "text/plain": [
              "Text(0, 0.5, 'Percentage of responses')"
            ]
          },
          "metadata": {
            "tags": []
          },
          "execution_count": 53
        },
        {
          "output_type": "display_data",
          "data": {
            "image/png": "[encoded data removed]",
            "text/plain": [
              "<Figure size 432x288 with 1 Axes>"
            ]
          },
          "metadata": {
            "tags": [],
            "needs_background": "light"
          }
        }
      ]
    },
    {
      "cell_type": "markdown",
      "metadata": {
        "id": "A2sbWfBIR8Hs",
        "colab_type": "text"
      },
      "source": [
        "Gender Distribution of Responses"
      ]
    },
    {
      "cell_type": "code",
      "metadata": {
        "id": "0qG0SwMgLAfg",
        "colab_type": "code",
        "colab": {}
      },
      "source": [
        "genderDistribution = (df['Gender'].value_counts()/110)*100"
      ],
      "execution_count": null,
      "outputs": []
    },
    {
      "cell_type": "code",
      "metadata": {
        "id": "gst22psmLFG3",
        "colab_type": "code",
        "colab": {
          "base_uri": "https://localhost:8080/",
          "height": 84
        },
        "outputId": "2378bd87-a7f7-4d61-a2fe-f90bac6d4c88"
      },
      "source": [
        "genderDistribution"
      ],
      "execution_count": null,
      "outputs": [
        {
          "output_type": "execute_result",
          "data": {
            "text/plain": [
              "Female               70.909091\n",
              "Male                 28.181818\n",
              "Prefer not to say     0.909091\n",
              "Name: Gender, dtype: float64"
            ]
          },
          "metadata": {
            "tags": []
          },
          "execution_count": 55
        }
      ]
    },
    {
      "cell_type": "code",
      "metadata": {
        "id": "AfJ7KFALLJMi",
        "colab_type": "code",
        "colab": {
          "base_uri": "https://localhost:8080/",
          "height": 312
        },
        "outputId": "9189ff7b-d6bb-4ada-ad5a-ac87b89a0db5"
      },
      "source": [
        "ax = genderDistribution.plot(kind='bar', color='slateblue')\n",
        "\n",
        "for spine in plt.gca().spines.values():\n",
        "    spine.set_visible(False)\n",
        "plt.yticks([])\n",
        "\n",
        "for p in ax.patches:\n",
        "    width, height = p.get_width(), p.get_height()\n",
        "    x, y = p.get_xy() \n",
        "    ax.annotate('{:.2f}'.format(height), (x + 0.10, y + height + 1))\n",
        "\n",
        "plt.title('Gender Distribution of responses')\n",
        "plt.xlabel('Gender')\n",
        "plt.ylabel('Percentage of responses')\n",
        "plt.xticks(rotation=0)"
      ],
      "execution_count": null,
      "outputs": [
        {
          "output_type": "execute_result",
          "data": {
            "text/plain": [
              "(array([0, 1, 2]), <a list of 3 Text major ticklabel objects>)"
            ]
          },
          "metadata": {
            "tags": []
          },
          "execution_count": 56
        },
        {
          "output_type": "display_data",
          "data": {
            "image/png": "[encoded data removed]",
            "text/plain": [
              "<Figure size 432x288 with 1 Axes>"
            ]
          },
          "metadata": {
            "tags": [],
            "needs_background": "light"
          }
        }
      ]
    },
    {
      "cell_type": "markdown",
      "metadata": {
        "id": "iJTleps3Twr6",
        "colab_type": "text"
      },
      "source": [
        "Friends in Major"
      ]
    },
    {
      "cell_type": "code",
      "metadata": {
        "id": "oz6nqT5ZMr2_",
        "colab_type": "code",
        "colab": {}
      },
      "source": [
        "df2 = df.groupby('Major')['friendsInMajor'].mean()"
      ],
      "execution_count": null,
      "outputs": []
    },
    {
      "cell_type": "code",
      "metadata": {
        "id": "4Ll4IhnAP7Lv",
        "colab_type": "code",
        "colab": {}
      },
      "source": [
        "df2 = df2.sort_values(ascending=False)"
      ],
      "execution_count": null,
      "outputs": []
    },
    {
      "cell_type": "code",
      "metadata": {
        "id": "Nq-oOwwuP8RQ",
        "colab_type": "code",
        "colab": {
          "base_uri": "https://localhost:8080/",
          "height": 312
        },
        "outputId": "23855b2b-b996-4bd8-c98c-8696259a23de"
      },
      "source": [
        "ax = df2.plot(kind='bar', color='pink')\n",
        "\n",
        "for p in ax.patches:\n",
        "    width, height = p.get_width(), p.get_height()\n",
        "    x, y = p.get_xy() \n",
        "    ax.annotate('{:.2f}'.format(height), (x + 0.05, y + height + 0.5))\n",
        "\n",
        "plt.title('Friends within major')\n",
        "plt.xlabel('Major')\n",
        "plt.ylabel('Percentage of friends in major')\n",
        "plt.xticks(rotation=0)"
      ],
      "execution_count": null,
      "outputs": [
        {
          "output_type": "execute_result",
          "data": {
            "text/plain": [
              "(array([0, 1, 2, 3, 4]), <a list of 5 Text major ticklabel objects>)"
            ]
          },
          "metadata": {
            "tags": []
          },
          "execution_count": 59
        },
        {
          "output_type": "display_data",
          "data": {
            "image/png": "[encoded data removed]",
            "text/plain": [
              "<Figure size 432x288 with 1 Axes>"
            ]
          },
          "metadata": {
            "tags": [],
            "needs_background": "light"
          }
        }
      ]
    },
    {
      "cell_type": "code",
      "metadata": {
        "id": "QqAgGvvSBdbh",
        "colab_type": "code",
        "colab": {}
      },
      "source": [
        "df3 = df['friendsInAndOutOfClass'].value_counts().sort_index(ascending=False)"
      ],
      "execution_count": null,
      "outputs": []
    },
    {
      "cell_type": "markdown",
      "metadata": {
        "id": "Xa7dc-7bbbhJ",
        "colab_type": "text"
      },
      "source": [
        "the numbers are v mixed, that may be bec we have Liberal Core classes and different batches, genders and majors HAVE to associate, but \n",
        "\n",
        "Another limitation: we got a lot of different responses form our survey, and the kinds of question that we asked can be used to analyse multiple different situaitons and answe different questions. Since we are on a time crunch, we had to narrow it down to  v select few set of spefici questions."
      ]
    },
    {
      "cell_type": "code",
      "metadata": {
        "id": "CA3ObvAQCPrn",
        "colab_type": "code",
        "colab": {
          "base_uri": "https://localhost:8080/",
          "height": 329
        },
        "outputId": "8bb6e41f-d463-4063-e810-312ac1ebbcef"
      },
      "source": [
        "df3 = df['friendsInAndOutOfClass'].value_counts().sort_index(ascending=True)\n",
        "df3.plot(kind='barh', colormap='Paired')\n",
        "\n",
        "plt.title('Friends with Classmates Outside of Class')\n",
        "plt.xlabel('Number of responses')\n",
        "plt.ylabel('% of classmates who respondents also \\n interact with outside of class')\n",
        "plt.xticks(rotation=0)"
      ],
      "execution_count": null,
      "outputs": [
        {
          "output_type": "execute_result",
          "data": {
            "text/plain": [
              "(array([ 0.,  2.,  4.,  6.,  8., 10., 12., 14., 16., 18.]),\n",
              " <a list of 10 Text major ticklabel objects>)"
            ]
          },
          "metadata": {
            "tags": []
          },
          "execution_count": 63
        },
        {
          "output_type": "display_data",
          "data": {
            "image/png": "[encoded data removed]",
            "text/plain": [
              "<Figure size 432x288 with 1 Axes>"
            ]
          },
          "metadata": {
            "tags": [],
            "needs_background": "light"
          }
        }
      ]
    },
    {
      "cell_type": "code",
      "metadata": {
        "id": "sF72VFTLt0Rf",
        "colab_type": "code",
        "colab": {
          "base_uri": "https://localhost:8080/",
          "height": 542
        },
        "outputId": "ea9922f0-c720-43eb-a081-28deef797077"
      },
      "source": [
        "df8 = (df3/41)*100\n",
        "print(df8)\n",
        "df8.plot(kind='bar', color='#603F83FF')\n",
        "\n",
        "plt.title('Friends with Classmates Outside of Class')\n",
        "plt.xlabel('% of classmates who respondents also \\n interact with outside of class')\n",
        "plt.ylabel('Percentage of respondents')\n",
        "plt.xticks(rotation=0)"
      ],
      "execution_count": null,
      "outputs": [
        {
          "output_type": "stream",
          "text": [
            "0      12.195122\n",
            "10     14.634146\n",
            "20     21.951220\n",
            "30     29.268293\n",
            "40     31.707317\n",
            "50     29.268293\n",
            "60     29.268293\n",
            "70     39.024390\n",
            "80     39.024390\n",
            "90     14.634146\n",
            "100     7.317073\n",
            "Name: friendsInAndOutOfClass, dtype: float64\n"
          ],
          "name": "stdout"
        },
        {
          "output_type": "execute_result",
          "data": {
            "text/plain": [
              "(array([ 0,  1,  2,  3,  4,  5,  6,  7,  8,  9, 10]),\n",
              " <a list of 11 Text major ticklabel objects>)"
            ]
          },
          "metadata": {
            "tags": []
          },
          "execution_count": 65
        },
        {
          "output_type": "display_data",
          "data": {
            "image/png": "[encoded data removed]",
            "text/plain": [
              "<Figure size 432x288 with 1 Axes>"
            ]
          },
          "metadata": {
            "tags": [],
            "needs_background": "light"
          }
        }
      ]
    },
    {
      "cell_type": "code",
      "metadata": {
        "id": "RVx-1bK9dv1D",
        "colab_type": "code",
        "colab": {}
      },
      "source": [
        "df4 = df.groupby('Major')['friendsInAndOutOfClass'].value_counts().sort_index(ascending=False)\n",
        "df5 = df4.CS\n",
        "df6 = df4.SDP"
      ],
      "execution_count": null,
      "outputs": []
    },
    {
      "cell_type": "code",
      "metadata": {
        "id": "p3EAa46Kg38G",
        "colab_type": "code",
        "colab": {
          "base_uri": "https://localhost:8080/",
          "height": 341
        },
        "outputId": "a5a52294-0ebe-4d9f-c455-d992ff137f37"
      },
      "source": [
        "df5.plot(kind='bar', color='#D85A7FFF')\n",
        "\n",
        "plt.title('CS Students who are Friends with Classmates Outside of Class')\n",
        "plt.xlabel('% of classmates who respondents also \\n interact with outside of class')\n",
        "plt.ylabel('Number of responses')\n",
        "plt.xticks(rotation=0)"
      ],
      "execution_count": null,
      "outputs": [
        {
          "output_type": "execute_result",
          "data": {
            "text/plain": [
              "(array([ 0,  1,  2,  3,  4,  5,  6,  7,  8,  9, 10]),\n",
              " <a list of 11 Text major ticklabel objects>)"
            ]
          },
          "metadata": {
            "tags": []
          },
          "execution_count": 67
        },
        {
          "output_type": "display_data",
          "data": {
            "image/png": "[encoded data removed]",
            "text/plain": [
              "<Figure size 432x288 with 1 Axes>"
            ]
          },
          "metadata": {
            "tags": [],
            "needs_background": "light"
          }
        }
      ]
    },
    {
      "cell_type": "code",
      "metadata": {
        "id": "OonaaqEWhrAa",
        "colab_type": "code",
        "colab": {
          "base_uri": "https://localhost:8080/",
          "height": 341
        },
        "outputId": "ec91ad14-54d7-4530-ccbf-25ff8a73292c"
      },
      "source": [
        "df6.plot(kind='bar', color='#FFD662FF')\n",
        "\n",
        "plt.title('SDP Students who are Friends with Classmates Outside of Class')\n",
        "plt.xlabel('% of classmates who respondents also \\n interact with outside of class')\n",
        "plt.ylabel('Number of responses')\n",
        "plt.ylim(0,8)\n",
        "plt.xticks(rotation=0)"
      ],
      "execution_count": null,
      "outputs": [
        {
          "output_type": "execute_result",
          "data": {
            "text/plain": [
              "(array([ 0,  1,  2,  3,  4,  5,  6,  7,  8,  9, 10]),\n",
              " <a list of 11 Text major ticklabel objects>)"
            ]
          },
          "metadata": {
            "tags": []
          },
          "execution_count": 68
        },
        {
          "output_type": "display_data",
          "data": {
            "image/png": "[encoded data removed]",
            "text/plain": [
              "<Figure size 432x288 with 1 Axes>"
            ]
          },
          "metadata": {
            "tags": [],
            "needs_background": "light"
          }
        }
      ]
    },
    {
      "cell_type": "markdown",
      "metadata": {
        "id": "MuimqPBHUHLT",
        "colab_type": "text"
      },
      "source": [
        "**SSE** Students having friends of other genders -- Future Work"
      ]
    },
    {
      "cell_type": "code",
      "metadata": {
        "id": "Z7Q2jRGTIEao",
        "colab_type": "code",
        "colab": {}
      },
      "source": [
        "df0 = df.groupby(['Major','Gender']).friendsOfSameGender.mean()"
      ],
      "execution_count": null,
      "outputs": []
    },
    {
      "cell_type": "code",
      "metadata": {
        "id": "7CA8DC85Up1H",
        "colab_type": "code",
        "colab": {
          "base_uri": "https://localhost:8080/",
          "height": 84
        },
        "outputId": "ce9f9fbf-36ad-4cb9-b478-fe9288501e3d"
      },
      "source": [
        "CSEE = 100 - ((df0['CS'] + df0['EE'])/200*100)\n",
        "CSEE = CSEE.dropna()\n",
        "CSEE"
      ],
      "execution_count": null,
      "outputs": [
        {
          "output_type": "execute_result",
          "data": {
            "text/plain": [
              "Gender\n",
              "Female    52.916667\n",
              "Male      41.205357\n",
              "Name: friendsOfSameGender, dtype: float64"
            ]
          },
          "metadata": {
            "tags": []
          },
          "execution_count": 70
        }
      ]
    },
    {
      "cell_type": "code",
      "metadata": {
        "id": "OluZSud4HnwV",
        "colab_type": "code",
        "colab": {
          "base_uri": "https://localhost:8080/",
          "height": 312
        },
        "outputId": "76c6af25-e994-406d-cdc0-c22ce07316fa"
      },
      "source": [
        "ax = CSEE.plot(kind='bar', color='orange')\n",
        "\n",
        "for p in ax.patches:\n",
        "    width, height = p.get_width(), p.get_height()\n",
        "    x, y = p.get_xy() \n",
        "    ax.annotate('{:.2f}'.format(height), (x + 0.15, y + height + 0.5))\n",
        "\n",
        "plt.title('SSE Students having friends of other genders')\n",
        "plt.xlabel('Gender')\n",
        "plt.ylabel('% of total friends that are \\n of other genders')\n",
        "plt.xticks(rotation=0)"
      ],
      "execution_count": 80,
      "outputs": [
        {
          "output_type": "execute_result",
          "data": {
            "text/plain": [
              "(array([0, 1]), <a list of 2 Text major ticklabel objects>)"
            ]
          },
          "metadata": {
            "tags": []
          },
          "execution_count": 80
        },
        {
          "output_type": "display_data",
          "data": {
            "image/png": "[encoded data removed]",
            "text/plain": [
              "<Figure size 432x288 with 1 Axes>"
            ]
          },
          "metadata": {
            "tags": [],
            "needs_background": "light"
          }
        }
      ]
    },
    {
      "cell_type": "markdown",
      "metadata": {
        "id": "yMxlQSRndfo5",
        "colab_type": "text"
      },
      "source": [
        "SSE Students having friends of other genders across different universities in Pakistan"
      ]
    },
    {
      "cell_type": "code",
      "metadata": {
        "id": "Nkz_xdJCd3Cd",
        "colab_type": "code",
        "colab": {
          "base_uri": "https://localhost:8080/",
          "height": 327
        },
        "outputId": "9c4f3e45-f8c6-4af8-a53c-202ff2da9c7f"
      },
      "source": [
        "dictionary = {'Habib': 41.21, 'NUST' : 0, 'FAST': 0, 'PIEAS': 0, 'GIKI': 0}\n",
        "keys = dictionary. keys()\n",
        "values = dictionary. values()\n",
        "plt. bar(keys, values, color = '#FDDB27FF')\n",
        "\n",
        "plt.title('SSE Students having friends of other genders \\n across engineering universities in Pakistan')\n",
        "plt.xlabel('University')\n",
        "plt.ylabel('% of total friends that are \\n of other genders')\n",
        "plt.xticks(rotation=0)"
      ],
      "execution_count": null,
      "outputs": [
        {
          "output_type": "execute_result",
          "data": {
            "text/plain": [
              "([0, 1, 2, 3, 4], <a list of 5 Text major ticklabel objects>)"
            ]
          },
          "metadata": {
            "tags": []
          },
          "execution_count": 76
        },
        {
          "output_type": "display_data",
          "data": {
            "image/png": "[encoded data removed]",
            "text/plain": [
              "<Figure size 432x288 with 1 Axes>"
            ]
          },
          "metadata": {
            "tags": [],
            "needs_background": "light"
          }
        }
      ]
    },
    {
      "cell_type": "code",
      "metadata": {
        "id": "y5tY1hXOj0Y-",
        "colab_type": "code",
        "colab": {}
      },
      "source": [
        ""
      ],
      "execution_count": null,
      "outputs": []
    }
  ]
}